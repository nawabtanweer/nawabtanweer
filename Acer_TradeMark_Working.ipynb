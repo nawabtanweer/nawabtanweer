{
  "cells": [
    {
      "cell_type": "markdown",
      "metadata": {
        "id": "view-in-github",
        "colab_type": "text"
      },
      "source": [
        "<a href=\"https://colab.research.google.com/github/nawabtanweer/nawabtanweer/blob/main/Acer_TradeMark_Working.ipynb\" target=\"_parent\"><img src=\"https://colab.research.google.com/assets/colab-badge.svg\" alt=\"Open In Colab\"/></a>"
      ]
    },
    {
      "cell_type": "code",
      "execution_count": null,
      "metadata": {
        "id": "e0EhMhKKNaFF",
        "colab": {
          "base_uri": "https://localhost:8080/"
        },
        "outputId": "cb45ab3e-7cc1-4315-f6cc-a4be93d73087"
      },
      "outputs": [
        {
          "output_type": "stream",
          "name": "stdout",
          "text": [
            "Libraries Imported\n"
          ]
        }
      ],
      "source": [
        "import pandas as pd\n",
        "import sqlite3\n",
        "print('Libraries Imported')"
      ]
    },
    {
      "cell_type": "code",
      "execution_count": null,
      "metadata": {
        "id": "gjYdYuaLOn79",
        "colab": {
          "base_uri": "https://localhost:8080/"
        },
        "outputId": "e84b72bf-b79d-4822-f93c-8da01f3ba150"
      },
      "outputs": [
        {
          "output_type": "stream",
          "name": "stdout",
          "text": [
            "Connection Established and database created/loaded\n",
            "Cursor created\n"
          ]
        }
      ],
      "source": [
        "conn = sqlite3.connect('testingtm.db')\n",
        "print('Connection Established and database created/loaded')\n",
        "c = conn.cursor()\n",
        "print('Cursor created')"
      ]
    },
    {
      "cell_type": "code",
      "execution_count": null,
      "metadata": {
        "id": "TXmkOrHgPo8M",
        "colab": {
          "base_uri": "https://localhost:8080/"
        },
        "outputId": "a251455a-ae37-47b3-a588-96c3a70de371"
      },
      "outputs": [
        {
          "output_type": "stream",
          "name": "stdout",
          "text": [
            "CSV file imported\n"
          ]
        }
      ],
      "source": [
        "df = pd.read_csv('/content/drive/MyDrive/Colab Notebooks/testing_tm.csv')\n",
        "print('CSV file imported')"
      ]
    },
    {
      "cell_type": "code",
      "execution_count": null,
      "metadata": {
        "id": "1RJX6FnQX50F",
        "colab": {
          "base_uri": "https://localhost:8080/"
        },
        "outputId": "ec1dc0ca-8da4-4888-99af-c5bfb42ed5a7"
      },
      "outputs": [
        {
          "output_type": "stream",
          "name": "stdout",
          "text": [
            "                Row Labels\n",
            "0   + S3 UniChrome Pro IGP\n",
            "1                     2150\n",
            "2                  2400Pro\n",
            "3                      315\n",
            "4                  4500MHD\n",
            "5                      505\n",
            "6                      510\n",
            "7                      605\n",
            "8                      650\n",
            "9                     651C\n",
            "10                   651GX\n",
            "11                651GX 3D\n",
            "12                   6600G\n",
            "13                   661FX\n",
            "14                   661GX\n",
            "15                    7050\n",
            "16                   761GX\n",
            "17                     810\n",
            "18                    8400\n",
            "19                  8400GS\n"
          ]
        }
      ],
      "source": [
        "first_row = df.head(20)\n",
        "print(first_row)"
      ]
    },
    {
      "cell_type": "code",
      "execution_count": null,
      "metadata": {
        "id": "9AbFwMj_bgW1",
        "colab": {
          "base_uri": "https://localhost:8080/"
        },
        "outputId": "ec8237fb-7f63-406b-cec5-9a2d35fa46cd"
      },
      "outputs": [
        {
          "output_type": "stream",
          "name": "stdout",
          "text": [
            "Index(['Row Labels'], dtype='object')\n"
          ]
        }
      ],
      "source": [
        "print(df.columns)"
      ]
    },
    {
      "cell_type": "code",
      "execution_count": null,
      "metadata": {
        "id": "xOjLmKHCbyIV",
        "colab": {
          "base_uri": "https://localhost:8080/"
        },
        "outputId": "456a131f-a8d1-47ea-b832-3fcfada88537"
      },
      "outputs": [
        {
          "output_type": "stream",
          "name": "stdout",
          "text": [
            "name assigned to column in dataframe\n"
          ]
        }
      ],
      "source": [
        "df.columns=['pline']\n",
        "print('name assigned to column in dataframe')"
      ]
    },
    {
      "cell_type": "code",
      "execution_count": null,
      "metadata": {
        "id": "-1ITGJddSLcF",
        "colab": {
          "base_uri": "https://localhost:8080/"
        },
        "outputId": "e86d649f-a5ee-4386-be83-86e8a1a41788"
      },
      "outputs": [
        {
          "output_type": "stream",
          "name": "stdout",
          "text": [
            "Data inserted into the table\n"
          ]
        }
      ],
      "source": [
        "table_name = 'tmark'\n",
        "df.to_sql(table_name, conn, index=False, if_exists='replace')\n",
        "\n",
        "print('Data inserted into the table')\n"
      ]
    },
    {
      "cell_type": "markdown",
      "source": [
        "c.execute(\"\"\"\n",
        "SELECT * FROM tmark WHERE pline NOT LIKE '%®%' AND pline NOT LIKE'Radeon™%'\n",
        "AND pline NOT LIKE '%Radeon™%' AND pline NOT LIKE '%RTX™%'\n",
        "\"\"\")\n",
        "conn.commit()\n",
        "row = c.fetchall()\n",
        "print('The number of data returned is: ', len(row))\n",
        "\n",
        "for rows in row:\n",
        "  print(rows)"
      ],
      "metadata": {
        "id": "rR_22nnLVYj9"
      }
    },
    {
      "cell_type": "code",
      "execution_count": null,
      "metadata": {
        "id": "uY-r3CC2WV4W",
        "colab": {
          "base_uri": "https://localhost:8080/"
        },
        "outputId": "d8248902-a4b4-4a79-f2cb-17b176632987"
      },
      "outputs": [
        {
          "output_type": "stream",
          "name": "stdout",
          "text": [
            "The number of returned value is:  735\n",
            "The data without r and tm is below: \n",
            "('2150',)\n",
            "('2400Pro',)\n",
            "('315',)\n",
            "('4500MHD',)\n",
            "('505',)\n",
            "('510',)\n",
            "('605',)\n",
            "('650',)\n",
            "('651C',)\n",
            "('651GX',)\n",
            "('651GX 3D',)\n",
            "('6600G',)\n",
            "('661FX',)\n",
            "('661GX',)\n",
            "('7050',)\n"
          ]
        }
      ],
      "source": [
        "c.execute(\"\"\"\n",
        "SELECT * FROM tmark WHERE pline NOT LIKE '%®%' AND pline NOT LIKE'%™%'\n",
        "\"\"\")\n",
        "conn.commit()\n",
        "row = c.fetchall()\n",
        "print('The number of returned value is: ', len(row))\n",
        "print('The data without r and tm is below: ')\n",
        "i = 0\n",
        "while i < 15:\n",
        "  i = 1 + i\n",
        "  print(row[i])"
      ]
    },
    {
      "cell_type": "code",
      "source": [
        "c.execute(\"\"\"\n",
        "CREATE TABLE IF NOT EXISTS notm (pline VARCHAR(50));\n",
        "\"\"\")\n",
        "conn.commit()\n",
        "print(\"notm table created\")"
      ],
      "metadata": {
        "id": "QRPL4GHfgdja",
        "colab": {
          "base_uri": "https://localhost:8080/"
        },
        "outputId": "3e83f4ad-5a8f-471a-b72c-3867136c292f"
      },
      "execution_count": null,
      "outputs": [
        {
          "output_type": "stream",
          "name": "stdout",
          "text": [
            "notm table created\n"
          ]
        }
      ]
    },
    {
      "cell_type": "code",
      "source": [
        "c.execute(\"\"\"\n",
        "INSERT INTO notm (pline)\n",
        "SELECT * FROM tmark WHERE pline NOT LIKE '%®%' AND pline NOT LIKE'%™%'\n",
        "\"\"\")\n",
        "conn.commit()\n",
        "print('Data inserted into notm table')"
      ],
      "metadata": {
        "id": "R9Tx7zy7gSa7",
        "colab": {
          "base_uri": "https://localhost:8080/"
        },
        "outputId": "4937c84b-84d7-4e0c-9de9-2f938614863f"
      },
      "execution_count": null,
      "outputs": [
        {
          "output_type": "stream",
          "name": "stdout",
          "text": [
            "Data inserted into notm table\n"
          ]
        }
      ]
    },
    {
      "cell_type": "code",
      "source": [
        "c.execute(\"\"\"\n",
        "SELECT * FROM notm\n",
        "\"\"\")\n",
        "row=c.fetchall()\n",
        "print('Data inserted into the notm table is: ', len(row))\n",
        "i = 0\n",
        "while i < 15:\n",
        "  print(row[i])\n",
        "  i += 1\n"
      ],
      "metadata": {
        "id": "skJ-tSLapJFO",
        "colab": {
          "base_uri": "https://localhost:8080/"
        },
        "outputId": "449d5056-5e3a-4e26-cab0-f2592dca7d19"
      },
      "execution_count": null,
      "outputs": [
        {
          "output_type": "stream",
          "name": "stdout",
          "text": [
            "Data inserted into the notm table is:  735\n",
            "('+ S3 UniChrome Pro IGP',)\n",
            "('2150',)\n",
            "('2400Pro',)\n",
            "('315',)\n",
            "('4500MHD',)\n",
            "('505',)\n",
            "('510',)\n",
            "('605',)\n",
            "('650',)\n",
            "('651C',)\n",
            "('651GX',)\n",
            "('651GX 3D',)\n",
            "('6600G',)\n",
            "('661FX',)\n",
            "('661GX',)\n"
          ]
        }
      ]
    },
    {
      "cell_type": "code",
      "source": [
        "c.execute(\"\"\"\n",
        "UPDATE notm SET pline=REPLACE(pline, 'GeForce', 'GeForce®')\n",
        "WHERE pline LIKE('GeForce%');\n",
        "\"\"\")\n",
        "conn.commit()\n",
        "print('Values replaced')"
      ],
      "metadata": {
        "id": "TFAlYKtbCr42",
        "colab": {
          "base_uri": "https://localhost:8080/"
        },
        "outputId": "e402f1f6-bdf0-46f0-c478-b1f86fcb092f"
      },
      "execution_count": null,
      "outputs": [
        {
          "output_type": "stream",
          "name": "stdout",
          "text": [
            "Values replaced\n"
          ]
        }
      ]
    },
    {
      "cell_type": "code",
      "source": [
        "c.execute(\"\"\"\n",
        "SELECT * FROM notm WHERE pline LIKE 'GeForce%';\n",
        "\"\"\")\n",
        "row = c.fetchall()\n",
        "i=0\n",
        "while i < 15:\n",
        "  print(row[i])\n",
        "  i += 1"
      ],
      "metadata": {
        "id": "SWc6HBXnDp7m",
        "colab": {
          "base_uri": "https://localhost:8080/"
        },
        "outputId": "0471eb52-de56-47b5-98a6-74652edf7b25"
      },
      "execution_count": null,
      "outputs": [
        {
          "output_type": "stream",
          "name": "stdout",
          "text": [
            "('GeForce®',)\n",
            "('GeForce®  8600 M GS',)\n",
            "('GeForce®  8600M-GS',)\n",
            "('GeForce®  9300M-GS',)\n",
            "('GeForce®  9500M GS',)\n",
            "('GeForce® 2 GTX 280',)\n",
            "('GeForce® 2 MX400',)\n",
            "('GeForce® 205',)\n",
            "('GeForce® 210M',)\n",
            "('GeForce® 240 GT',)\n",
            "('GeForce® 240M GT',)\n",
            "('GeForce® 310',)\n",
            "('GeForce® 310M',)\n",
            "('GeForce® 315',)\n",
            "('GeForce® 320 GT',)\n"
          ]
        }
      ]
    },
    {
      "cell_type": "code",
      "source": [],
      "metadata": {
        "id": "yJS-9lqRFJU2"
      },
      "execution_count": null,
      "outputs": []
    },
    {
      "cell_type": "code",
      "source": [
        "c.execute(\"\"\"\n",
        "UPDATE notm\n",
        "SET pline = REPLACE(REPLACE(pline, 'GeForce®', 'GeForce'), 'RTX', 'RTX™')\n",
        "WHERE pline LIKE 'GeForce%' AND pline LIKE '%RTX%';\n",
        "\"\"\")\n",
        "conn.commit()\n",
        "print('RTX Values replaced')"
      ],
      "metadata": {
        "colab": {
          "base_uri": "https://localhost:8080/"
        },
        "outputId": "a1ab15fe-8934-4870-a344-5d0b393b5e65",
        "id": "447o0dofFKXo"
      },
      "execution_count": null,
      "outputs": [
        {
          "output_type": "stream",
          "name": "stdout",
          "text": [
            "RTX Values replaced\n"
          ]
        }
      ]
    },
    {
      "cell_type": "code",
      "source": [
        "c.execute(\"\"\"\n",
        "SELECT * FROM notm WHERE pline LIKE 'GeForce%' AND pline LIKE '%RTX%';\n",
        "\"\"\")\n",
        "row = c.fetchall()\n",
        "for rows in row:\n",
        "  print(rows)"
      ],
      "metadata": {
        "colab": {
          "base_uri": "https://localhost:8080/"
        },
        "id": "3oVN-LV2G2Q-",
        "outputId": "516ce923-48d7-4bbf-a9c3-96e27f039c5a"
      },
      "execution_count": null,
      "outputs": [
        {
          "output_type": "stream",
          "name": "stdout",
          "text": [
            "('GeForce RTX™-3070',)\n"
          ]
        }
      ]
    },
    {
      "cell_type": "code",
      "source": [
        "c.execute(\"\"\"\n",
        "UPDATE notm SET pline=REPLACE(REPLACE(pline, 'Radeon', 'Radeon™'), 'RADEON', 'Radeon™')\n",
        "WHERE pline LIKE ('%Radeon%');\n",
        "\"\"\")\n",
        "conn.commit()\n",
        "print('Radeon Updated')"
      ],
      "metadata": {
        "colab": {
          "base_uri": "https://localhost:8080/"
        },
        "id": "pd-lNMV3bJaZ",
        "outputId": "a0ce7a89-d4a6-4805-b910-f6c3dcb43549"
      },
      "execution_count": null,
      "outputs": [
        {
          "output_type": "stream",
          "name": "stdout",
          "text": [
            "Radeon Updated\n"
          ]
        }
      ]
    },
    {
      "cell_type": "code",
      "source": [
        "c.execute(\"\"\"\n",
        "SELECT * FROM notm WHERE pline LIKE '%Radeon%';\n",
        "\"\"\")\n",
        "\n",
        "rows = c.fetchall()\n",
        "i = 0\n",
        "while i < len(rows):\n",
        "  print(rows[i])\n",
        "  i += 1\n",
        "\n"
      ],
      "metadata": {
        "colab": {
          "base_uri": "https://localhost:8080/"
        },
        "id": "sKCOO5t5br7Y",
        "outputId": "c921fbe4-f1e0-49c8-a060-15520c8de28d"
      },
      "execution_count": null,
      "outputs": [
        {
          "output_type": "stream",
          "name": "stdout",
          "text": [
            "('Mobility Radeon™  9700',)\n",
            "('MOBILITY Radeon™  X700',)\n",
            "('MOBILITY Radeon™ 9000',)\n",
            "('MOBILITY Radeon™ 9000 IGP',)\n",
            "('MOBILITY Radeon™ 9200',)\n",
            "('MOBILITY Radeon™ 9600',)\n",
            "('MOBILITY Radeon™ 9700',)\n",
            "('MOBILITY Radeon™ X1400',)\n",
            "('Mobility Radeon™ X1600',)\n",
            "('MOBILITY Radeon™ X300',)\n",
            "('Mobility Radeon™ X600',)\n",
            "('MOBILITY Radeon™ X700',)\n",
            "('Mobility Radeon™&reg; 9700',)\n",
            "('MobilityRadeon™ HD 2300',)\n",
            "('MobilityRadeon™ X1600',)\n",
            "('Radeon™ 9250',)\n",
            "('Radeon™ 9600 SE',)\n",
            "('Radeon™ Xpress 1250',)\n",
            "('Radeon™ XPRESS 2100',)\n",
            "('Radeon™&reg; Xpress 1100',)\n",
            "('Radeon™HD 3200',)\n",
            "('Radeon™HD X2400XT',)\n",
            "('Radeon™T HD 3200',)\n",
            "('Radeon™TM HD 3200',)\n"
          ]
        }
      ]
    },
    {
      "cell_type": "code",
      "source": [
        "c.execute(\"\"\"\n",
        "UPDATE notm SET pline=REPLACE(REPLACE(pline, 'ION', 'ION™'), 'Ion', 'ION™');\n",
        "\"\"\")\n",
        "conn.commit()\n",
        "print('ION updated')"
      ],
      "metadata": {
        "colab": {
          "base_uri": "https://localhost:8080/"
        },
        "id": "HVIoYCHQh_GQ",
        "outputId": "0669c6a8-1482-44fc-dce0-93ecf10064fa"
      },
      "execution_count": null,
      "outputs": [
        {
          "output_type": "stream",
          "name": "stdout",
          "text": [
            "ION updated\n"
          ]
        }
      ]
    },
    {
      "cell_type": "code",
      "source": [
        "c.execute(\"\"\"\n",
        "SELECT * FROM notm WHERE pline LIKE '%ION%';\n",
        "\"\"\")\n",
        "rows = c.fetchall()\n",
        "i=0\n",
        "while i < len(rows):\n",
        "  print(rows[i])\n",
        "  i += 1\n"
      ],
      "metadata": {
        "colab": {
          "base_uri": "https://localhost:8080/"
        },
        "id": "SskXTviJiiaO",
        "outputId": "ac76801a-00c7-49ba-83b2-53aac4d96248"
      },
      "execution_count": null,
      "outputs": [
        {
          "output_type": "stream",
          "name": "stdout",
          "text": [
            "('ION™',)\n",
            "('ION™ 2',)\n",
            "('ION™-LE',)\n"
          ]
        }
      ]
    },
    {
      "cell_type": "code",
      "source": [
        "c.execute(\"\"\"\n",
        "UPDATE tmark SET pline=REPLACE(pline, 'NVS', 'NVS™')\n",
        "WHERE pline LIKE '%NVS%' AND pline NOT LIKE '%NVS™%';\n",
        "\"\"\")\n",
        "print('NVS updated')\n",
        "\n"
      ],
      "metadata": {
        "colab": {
          "base_uri": "https://localhost:8080/"
        },
        "id": "MAGr7OJeljZV",
        "outputId": "81d6bba7-4f9f-4d24-ee20-c84552631a5e"
      },
      "execution_count": null,
      "outputs": [
        {
          "output_type": "stream",
          "name": "stdout",
          "text": [
            "NVS updated\n"
          ]
        }
      ]
    },
    {
      "cell_type": "code",
      "source": [
        "c.execute(\"\"\"\n",
        "SELECT * FROM tmark\n",
        "WHERE pline LIKE '%NVS%';\n",
        "\"\"\")\n",
        "rows=c.fetchall()\n",
        "i=0\n",
        "while i < len(rows):\n",
        "  print(rows[i])\n",
        "  i += 1"
      ],
      "metadata": {
        "colab": {
          "base_uri": "https://localhost:8080/"
        },
        "id": "-_wosoSxogA4",
        "outputId": "bb3ff35f-505e-4dbc-a02f-4c2031e4a820"
      },
      "execution_count": null,
      "outputs": [
        {
          "output_type": "stream",
          "name": "stdout",
          "text": [
            "('NVS™410',)\n",
            "('NVS™ 300',)\n",
            "('NVS™ 310',)\n",
            "('NVS™ 510',)\n",
            "('Quadro® NVS™290',)\n",
            "('Quadro® NVS™ 290',)\n"
          ]
        }
      ]
    },
    {
      "cell_type": "code",
      "source": [
        "query=\"SELECT * FROM notm\"\n",
        "df=pd.read_sql_query(query, conn)\n",
        "df.to_excel('file121520231223.xlsx', index=False)\n",
        "print('File created in runtime folder. Download file to save')"
      ],
      "metadata": {
        "id": "etTRcNTHn5XJ",
        "colab": {
          "base_uri": "https://localhost:8080/"
        },
        "outputId": "d0f09b7a-bcaf-4901-8e79-e3b98e2a486e"
      },
      "execution_count": null,
      "outputs": [
        {
          "output_type": "stream",
          "name": "stdout",
          "text": [
            "File created in runtime folder. Download file to save\n"
          ]
        }
      ]
    },
    {
      "cell_type": "code",
      "source": [
        "c.execute(\"\"\"\n",
        "DROP TABLE tmark;\n",
        "\"\"\")\n",
        "conn.commit()\n",
        "print('tmark table deleted')\n",
        "\n",
        "c.execute(\"\"\"\n",
        "DROP TABLE notm;\n",
        "\"\"\")\n",
        "conn.commit()\n",
        "print('notm table deleted')"
      ],
      "metadata": {
        "id": "W_xL8EhLpHYo",
        "colab": {
          "base_uri": "https://localhost:8080/"
        },
        "outputId": "04876ca9-a120-4dd2-e8b8-1435cabbc3e8"
      },
      "execution_count": null,
      "outputs": [
        {
          "output_type": "stream",
          "name": "stdout",
          "text": [
            "tmark table deleted\n",
            "notm table deleted\n"
          ]
        }
      ]
    },
    {
      "cell_type": "code",
      "source": [
        "c.close()\n",
        "conn.close()\n",
        "print('All connections closed')"
      ],
      "metadata": {
        "id": "f6tBsWfcf3J8",
        "colab": {
          "base_uri": "https://localhost:8080/"
        },
        "outputId": "e5df2fbd-2281-4546-ac26-12a59968e5d6"
      },
      "execution_count": null,
      "outputs": [
        {
          "output_type": "stream",
          "name": "stdout",
          "text": [
            "All connections closed\n"
          ]
        }
      ]
    }
  ],
  "metadata": {
    "colab": {
      "provenance": [],
      "mount_file_id": "1tYnL009IUM0VZ-Xh7A2_yPKRBYEoirVK",
      "authorship_tag": "ABX9TyP0uFiPQsyJoOvpXXSoC5WR",
      "include_colab_link": true
    },
    "kernelspec": {
      "display_name": "Python 3",
      "name": "python3"
    },
    "language_info": {
      "name": "python"
    }
  },
  "nbformat": 4,
  "nbformat_minor": 0
}