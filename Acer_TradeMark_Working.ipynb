{
  "cells": [
    {
      "cell_type": "markdown",
      "metadata": {
        "id": "view-in-github",
        "colab_type": "text"
      },
      "source": [
        "<a href=\"https://colab.research.google.com/github/nawabtanweer/nawabtanweer/blob/main/Acer_TradeMark_Working.ipynb\" target=\"_parent\"><img src=\"https://colab.research.google.com/assets/colab-badge.svg\" alt=\"Open In Colab\"/></a>"
      ]
    },
    {
      "cell_type": "code",
      "execution_count": 1,
      "metadata": {
        "id": "e0EhMhKKNaFF",
        "colab": {
          "base_uri": "https://localhost:8080/"
        },
        "outputId": "7a8e9d70-56f4-4441-e4cb-ad795db93136"
      },
      "outputs": [
        {
          "output_type": "stream",
          "name": "stdout",
          "text": [
            "Libraries Imported\n"
          ]
        }
      ],
      "source": [
        "import pandas as pd\n",
        "import sqlite3\n",
        "print('Libraries Imported')"
      ]
    },
    {
      "cell_type": "code",
      "execution_count": 2,
      "metadata": {
        "id": "gjYdYuaLOn79",
        "colab": {
          "base_uri": "https://localhost:8080/"
        },
        "outputId": "e7719ed7-6785-44b4-8ccc-62ed329fc666"
      },
      "outputs": [
        {
          "output_type": "stream",
          "name": "stdout",
          "text": [
            "Connection Established and database created/loaded\n",
            "Cursor created\n"
          ]
        }
      ],
      "source": [
        "conn = sqlite3.connect('testingtm.db')\n",
        "print('Connection Established and database created/loaded')\n",
        "c = conn.cursor()\n",
        "print('Cursor created')"
      ]
    },
    {
      "cell_type": "code",
      "execution_count": 3,
      "metadata": {
        "id": "TXmkOrHgPo8M",
        "colab": {
          "base_uri": "https://localhost:8080/"
        },
        "outputId": "30a5a9b6-4632-415d-8b55-1b98d86537cf"
      },
      "outputs": [
        {
          "output_type": "stream",
          "name": "stdout",
          "text": [
            "CSV file imported\n"
          ]
        }
      ],
      "source": [
        "df = pd.read_csv('/content/drive/MyDrive/Colab Notebooks/testing_tm.csv')\n",
        "print('CSV file imported')"
      ]
    },
    {
      "cell_type": "code",
      "execution_count": 4,
      "metadata": {
        "id": "1RJX6FnQX50F",
        "colab": {
          "base_uri": "https://localhost:8080/"
        },
        "outputId": "98d1ed23-41c7-44e9-b519-0a08b03ae6d0"
      },
      "outputs": [
        {
          "output_type": "stream",
          "name": "stdout",
          "text": [
            "                Row Labels\n",
            "0   + S3 UniChrome Pro IGP\n",
            "1                     2150\n",
            "2                  2400Pro\n",
            "3                      315\n",
            "4                  4500MHD\n",
            "5                      505\n",
            "6                      510\n",
            "7                      605\n",
            "8                      650\n",
            "9                     651C\n",
            "10                   651GX\n",
            "11                651GX 3D\n",
            "12                   6600G\n",
            "13                   661FX\n",
            "14                   661GX\n",
            "15                    7050\n",
            "16                   761GX\n",
            "17                     810\n",
            "18                    8400\n",
            "19                  8400GS\n"
          ]
        }
      ],
      "source": [
        "first_row = df.head(20)\n",
        "print(first_row)"
      ]
    },
    {
      "cell_type": "code",
      "execution_count": 5,
      "metadata": {
        "id": "9AbFwMj_bgW1",
        "colab": {
          "base_uri": "https://localhost:8080/"
        },
        "outputId": "5538a4d4-07ed-4f34-b75a-6f5b4a01897f"
      },
      "outputs": [
        {
          "output_type": "stream",
          "name": "stdout",
          "text": [
            "Index(['Row Labels'], dtype='object')\n"
          ]
        }
      ],
      "source": [
        "print(df.columns)"
      ]
    },
    {
      "cell_type": "code",
      "execution_count": 6,
      "metadata": {
        "id": "xOjLmKHCbyIV",
        "colab": {
          "base_uri": "https://localhost:8080/"
        },
        "outputId": "1f5887fe-b669-417a-c86d-021c8a9bdc9a"
      },
      "outputs": [
        {
          "output_type": "stream",
          "name": "stdout",
          "text": [
            "name assigned to column in dataframe\n"
          ]
        }
      ],
      "source": [
        "df.columns=['pline']\n",
        "print('name assigned to column in dataframe')"
      ]
    },
    {
      "cell_type": "code",
      "execution_count": 7,
      "metadata": {
        "id": "-1ITGJddSLcF",
        "colab": {
          "base_uri": "https://localhost:8080/"
        },
        "outputId": "669476e6-99e4-47bd-cae9-6882e19b2564"
      },
      "outputs": [
        {
          "output_type": "stream",
          "name": "stdout",
          "text": [
            "Data inserted into the table\n"
          ]
        }
      ],
      "source": [
        "table_name = 'tmark'\n",
        "df.to_sql(table_name, conn, index=False, if_exists='replace')\n",
        "\n",
        "print('Data inserted into the table')\n"
      ]
    },
    {
      "cell_type": "markdown",
      "source": [
        "c.execute(\"\"\"\n",
        "SELECT * FROM tmark WHERE pline NOT LIKE '%®%' AND pline NOT LIKE'Radeon™%'\n",
        "AND pline NOT LIKE '%Radeon™%' AND pline NOT LIKE '%RTX™%'\n",
        "\"\"\")\n",
        "conn.commit()\n",
        "row = c.fetchall()\n",
        "print('The number of data returned is: ', len(row))\n",
        "\n",
        "for rows in row:\n",
        "  print(rows)"
      ],
      "metadata": {
        "id": "rR_22nnLVYj9"
      }
    },
    {
      "cell_type": "code",
      "execution_count": 8,
      "metadata": {
        "id": "uY-r3CC2WV4W",
        "colab": {
          "base_uri": "https://localhost:8080/"
        },
        "outputId": "110ede7e-eebc-4b98-f380-dc1884236267"
      },
      "outputs": [
        {
          "output_type": "stream",
          "name": "stdout",
          "text": [
            "The number of returned value is:  735\n",
            "The data without r and tm is below: \n",
            "('2150',)\n",
            "('2400Pro',)\n",
            "('315',)\n",
            "('4500MHD',)\n",
            "('505',)\n",
            "('510',)\n",
            "('605',)\n",
            "('650',)\n",
            "('651C',)\n",
            "('651GX',)\n",
            "('651GX 3D',)\n",
            "('6600G',)\n",
            "('661FX',)\n",
            "('661GX',)\n",
            "('7050',)\n"
          ]
        }
      ],
      "source": [
        "c.execute(\"\"\"\n",
        "SELECT * FROM tmark WHERE pline NOT LIKE '%®%' AND pline NOT LIKE'%™%'\n",
        "\"\"\")\n",
        "conn.commit()\n",
        "row = c.fetchall()\n",
        "print('The number of returned value is: ', len(row))\n",
        "print('The data without r and tm is below: ')\n",
        "i = 0\n",
        "while i < 15:\n",
        "  i = 1 + i\n",
        "  print(row[i])"
      ]
    },
    {
      "cell_type": "code",
      "source": [
        "c.execute(\"\"\"\n",
        "CREATE TABLE IF NOT EXISTS notm (pline VARCHAR(50));\n",
        "\"\"\")\n",
        "conn.commit()\n",
        "print(\"notm table created\")"
      ],
      "metadata": {
        "id": "QRPL4GHfgdja",
        "colab": {
          "base_uri": "https://localhost:8080/"
        },
        "outputId": "4297155a-bd4e-42b9-81c2-de015081433b"
      },
      "execution_count": 9,
      "outputs": [
        {
          "output_type": "stream",
          "name": "stdout",
          "text": [
            "notm table created\n"
          ]
        }
      ]
    },
    {
      "cell_type": "code",
      "source": [
        "c.execute(\"\"\"\n",
        "INSERT INTO notm (pline)\n",
        "SELECT * FROM tmark WHERE pline NOT LIKE '%®%' AND pline NOT LIKE'%™%'\n",
        "\"\"\")\n",
        "conn.commit()\n",
        "print('Data inserted into notm table')"
      ],
      "metadata": {
        "id": "R9Tx7zy7gSa7",
        "colab": {
          "base_uri": "https://localhost:8080/"
        },
        "outputId": "71339951-eac0-45ca-97c6-dc2b4e970b82"
      },
      "execution_count": 10,
      "outputs": [
        {
          "output_type": "stream",
          "name": "stdout",
          "text": [
            "Data inserted into notm table\n"
          ]
        }
      ]
    },
    {
      "cell_type": "code",
      "source": [
        "c.execute(\"\"\"\n",
        "SELECT * FROM notm\n",
        "\"\"\")\n",
        "row=c.fetchall()\n",
        "print('Data inserted into the notm table is: ', len(row))\n",
        "i = 0\n",
        "while i < 15:\n",
        "  print(row[i])\n",
        "  i += 1\n"
      ],
      "metadata": {
        "id": "skJ-tSLapJFO",
        "colab": {
          "base_uri": "https://localhost:8080/"
        },
        "outputId": "0abf5af3-620b-4205-b5b0-c87dd4166604"
      },
      "execution_count": 11,
      "outputs": [
        {
          "output_type": "stream",
          "name": "stdout",
          "text": [
            "Data inserted into the notm table is:  735\n",
            "('+ S3 UniChrome Pro IGP',)\n",
            "('2150',)\n",
            "('2400Pro',)\n",
            "('315',)\n",
            "('4500MHD',)\n",
            "('505',)\n",
            "('510',)\n",
            "('605',)\n",
            "('650',)\n",
            "('651C',)\n",
            "('651GX',)\n",
            "('651GX 3D',)\n",
            "('6600G',)\n",
            "('661FX',)\n",
            "('661GX',)\n"
          ]
        }
      ]
    },
    {
      "cell_type": "code",
      "source": [
        "c.execute(\"\"\"\n",
        "UPDATE notm SET pline=REPLACE(pline, 'GeForce', 'GeForce®')\n",
        "WHERE pline LIKE('GeForce%');\n",
        "\"\"\")\n",
        "conn.commit()\n",
        "print('Values replaced')"
      ],
      "metadata": {
        "id": "TFAlYKtbCr42",
        "colab": {
          "base_uri": "https://localhost:8080/"
        },
        "outputId": "224fb487-b249-4d5d-975f-5b1c32571486"
      },
      "execution_count": 12,
      "outputs": [
        {
          "output_type": "stream",
          "name": "stdout",
          "text": [
            "Values replaced\n"
          ]
        }
      ]
    },
    {
      "cell_type": "code",
      "source": [
        "c.execute(\"\"\"\n",
        "SELECT * FROM notm WHERE pline LIKE 'GeForce%';\n",
        "\"\"\")\n",
        "row = c.fetchall()\n",
        "i=0\n",
        "while i < 15:\n",
        "  print(row[i])\n",
        "  i += 1"
      ],
      "metadata": {
        "id": "SWc6HBXnDp7m",
        "colab": {
          "base_uri": "https://localhost:8080/"
        },
        "outputId": "809bf5f7-03fc-47ad-dbc6-231c29968271"
      },
      "execution_count": 13,
      "outputs": [
        {
          "output_type": "stream",
          "name": "stdout",
          "text": [
            "('GeForce®',)\n",
            "('GeForce®  8600 M GS',)\n",
            "('GeForce®  8600M-GS',)\n",
            "('GeForce®  9300M-GS',)\n",
            "('GeForce®  9500M GS',)\n",
            "('GeForce® 2 GTX 280',)\n",
            "('GeForce® 2 MX400',)\n",
            "('GeForce® 205',)\n",
            "('GeForce® 210M',)\n",
            "('GeForce® 240 GT',)\n",
            "('GeForce® 240M GT',)\n",
            "('GeForce® 310',)\n",
            "('GeForce® 310M',)\n",
            "('GeForce® 315',)\n",
            "('GeForce® 320 GT',)\n"
          ]
        }
      ]
    },
    {
      "cell_type": "code",
      "source": [],
      "metadata": {
        "id": "yJS-9lqRFJU2"
      },
      "execution_count": 13,
      "outputs": []
    },
    {
      "cell_type": "code",
      "source": [
        "c.execute(\"\"\"\n",
        "UPDATE notm\n",
        "SET pline = REPLACE(REPLACE(pline, 'GeForce®', 'GeForce'), 'RTX', 'RTX™')\n",
        "WHERE pline LIKE 'GeForce%' AND pline LIKE '%RTX%';\n",
        "\"\"\")\n",
        "conn.commit()\n",
        "print('RTX Values replaced')"
      ],
      "metadata": {
        "colab": {
          "base_uri": "https://localhost:8080/"
        },
        "outputId": "76c64913-475d-465c-97d7-6af471336fdd",
        "id": "447o0dofFKXo"
      },
      "execution_count": 14,
      "outputs": [
        {
          "output_type": "stream",
          "name": "stdout",
          "text": [
            "RTX Values replaced\n"
          ]
        }
      ]
    },
    {
      "cell_type": "code",
      "source": [
        "c.execute(\"\"\"\n",
        "SELECT * FROM notm WHERE pline LIKE 'GeForce%' AND pline LIKE '%RTX%';\n",
        "\"\"\")\n",
        "row = c.fetchall()\n",
        "for rows in row:\n",
        "  print(rows)"
      ],
      "metadata": {
        "colab": {
          "base_uri": "https://localhost:8080/"
        },
        "id": "3oVN-LV2G2Q-",
        "outputId": "4aa86810-2740-4cfb-e6f3-a9d6c36eb936"
      },
      "execution_count": 15,
      "outputs": [
        {
          "output_type": "stream",
          "name": "stdout",
          "text": [
            "('GeForce RTX™-3070',)\n"
          ]
        }
      ]
    },
    {
      "cell_type": "code",
      "source": [
        "c.execute(\"\"\"\n",
        "UPDATE notm SET pline=REPLACE(REPLACE(pline, 'Radeon', 'Radeon™'), 'RADEON', 'Radeon™')\n",
        "WHERE pline LIKE ('%Radeon%');\n",
        "\"\"\")\n",
        "conn.commit()\n",
        "print('Radeon Updated')"
      ],
      "metadata": {
        "colab": {
          "base_uri": "https://localhost:8080/"
        },
        "id": "pd-lNMV3bJaZ",
        "outputId": "89efa657-2e70-4949-de7a-d8f3a501f772"
      },
      "execution_count": 16,
      "outputs": [
        {
          "output_type": "stream",
          "name": "stdout",
          "text": [
            "Radeon Updated\n"
          ]
        }
      ]
    },
    {
      "cell_type": "code",
      "source": [
        "c.execute(\"\"\"\n",
        "SELECT * FROM notm WHERE pline LIKE '%Radeon%';\n",
        "\"\"\")\n",
        "\n",
        "rows = c.fetchall()\n",
        "i = 0\n",
        "while i < len(rows):\n",
        "  print(rows[i])\n",
        "  i += 1\n",
        "\n"
      ],
      "metadata": {
        "colab": {
          "base_uri": "https://localhost:8080/"
        },
        "id": "sKCOO5t5br7Y",
        "outputId": "bd3fc535-4b26-437c-ad41-79e062a3b9e8"
      },
      "execution_count": 17,
      "outputs": [
        {
          "output_type": "stream",
          "name": "stdout",
          "text": [
            "('Mobility Radeon™  9700',)\n",
            "('MOBILITY Radeon™  X700',)\n",
            "('MOBILITY Radeon™ 9000',)\n",
            "('MOBILITY Radeon™ 9000 IGP',)\n",
            "('MOBILITY Radeon™ 9200',)\n",
            "('MOBILITY Radeon™ 9600',)\n",
            "('MOBILITY Radeon™ 9700',)\n",
            "('MOBILITY Radeon™ X1400',)\n",
            "('Mobility Radeon™ X1600',)\n",
            "('MOBILITY Radeon™ X300',)\n",
            "('Mobility Radeon™ X600',)\n",
            "('MOBILITY Radeon™ X700',)\n",
            "('Mobility Radeon™&reg; 9700',)\n",
            "('MobilityRadeon™ HD 2300',)\n",
            "('MobilityRadeon™ X1600',)\n",
            "('Radeon™ 9250',)\n",
            "('Radeon™ 9600 SE',)\n",
            "('Radeon™ Xpress 1250',)\n",
            "('Radeon™ XPRESS 2100',)\n",
            "('Radeon™&reg; Xpress 1100',)\n",
            "('Radeon™HD 3200',)\n",
            "('Radeon™HD X2400XT',)\n",
            "('Radeon™T HD 3200',)\n",
            "('Radeon™TM HD 3200',)\n"
          ]
        }
      ]
    },
    {
      "cell_type": "code",
      "source": [
        "c.execute(\"\"\"\n",
        "UPDATE notm SET pline=REPLACE(REPLACE(pline, 'ION', 'ION™'), 'Ion', 'ION™');\n",
        "\"\"\")\n",
        "conn.commit()\n",
        "print('ION updated')"
      ],
      "metadata": {
        "colab": {
          "base_uri": "https://localhost:8080/"
        },
        "id": "HVIoYCHQh_GQ",
        "outputId": "1f3ef331-cb91-42b0-f851-0c1a39ce107a"
      },
      "execution_count": 18,
      "outputs": [
        {
          "output_type": "stream",
          "name": "stdout",
          "text": [
            "ION updated\n"
          ]
        }
      ]
    },
    {
      "cell_type": "code",
      "source": [
        "c.execute(\"\"\"\n",
        "SELECT * FROM notm WHERE pline LIKE '%ION%';\n",
        "\"\"\")\n",
        "rows = c.fetchall()\n",
        "i=0\n",
        "while i < len(rows):\n",
        "  print(rows[i])\n",
        "  i += 1\n"
      ],
      "metadata": {
        "colab": {
          "base_uri": "https://localhost:8080/"
        },
        "id": "SskXTviJiiaO",
        "outputId": "02926841-03af-4aa3-c68d-522d65b6e525"
      },
      "execution_count": 19,
      "outputs": [
        {
          "output_type": "stream",
          "name": "stdout",
          "text": [
            "('ION™',)\n",
            "('ION™ 2',)\n",
            "('ION™-LE',)\n"
          ]
        }
      ]
    },
    {
      "cell_type": "code",
      "source": [
        "c.execute(\"\"\"\n",
        "UPDATE tmark SET pline=REPLACE(pline, 'NVS', 'NVS™')\n",
        "WHERE pline LIKE '%NVS%' AND pline NOT LIKE '%NVS™%';\n",
        "\"\"\")\n",
        "print('NVS updated')\n",
        "\n"
      ],
      "metadata": {
        "colab": {
          "base_uri": "https://localhost:8080/"
        },
        "id": "MAGr7OJeljZV",
        "outputId": "7e8c340e-3671-49ed-f455-345533958269"
      },
      "execution_count": 20,
      "outputs": [
        {
          "output_type": "stream",
          "name": "stdout",
          "text": [
            "NVS updated\n"
          ]
        }
      ]
    },
    {
      "cell_type": "code",
      "source": [
        "c.execute(\"\"\"\n",
        "SELECT * FROM tmark\n",
        "WHERE pline LIKE '%NVS%';\n",
        "\"\"\")\n",
        "rows=c.fetchall()\n",
        "i=0\n",
        "while i < len(rows):\n",
        "  print(rows[i])\n",
        "  i += 1"
      ],
      "metadata": {
        "colab": {
          "base_uri": "https://localhost:8080/"
        },
        "id": "-_wosoSxogA4",
        "outputId": "a64f3de9-9622-464f-823e-a56f1ad02a48"
      },
      "execution_count": 21,
      "outputs": [
        {
          "output_type": "stream",
          "name": "stdout",
          "text": [
            "('NVS™410',)\n",
            "('NVS™ 300',)\n",
            "('NVS™ 310',)\n",
            "('NVS™ 510',)\n",
            "('Quadro® NVS™290',)\n",
            "('Quadro® NVS™ 290',)\n"
          ]
        }
      ]
    },
    {
      "cell_type": "code",
      "source": [
        "query=\"SELECT * FROM notm\"\n",
        "df=pd.read_sql_query(query, conn)\n",
        "df.to_excel('file121520231223.xlsx', index=False)\n",
        "print('File created in runtime folder. Download file to save')"
      ],
      "metadata": {
        "id": "etTRcNTHn5XJ",
        "colab": {
          "base_uri": "https://localhost:8080/"
        },
        "outputId": "c8e0323e-7481-4986-c51b-cc44484655b2"
      },
      "execution_count": 22,
      "outputs": [
        {
          "output_type": "stream",
          "name": "stdout",
          "text": [
            "File created in runtime folder. Download file to save\n"
          ]
        }
      ]
    },
    {
      "cell_type": "code",
      "source": [
        "c.execute(\"\"\"\n",
        "DROP TABLE tmark;\n",
        "\"\"\")\n",
        "conn.commit()\n",
        "print('tmark table deleted')\n",
        "\n",
        "c.execute(\"\"\"\n",
        "DROP TABLE notm;\n",
        "\"\"\")\n",
        "conn.commit()\n",
        "print('notm table deleted')"
      ],
      "metadata": {
        "id": "W_xL8EhLpHYo",
        "colab": {
          "base_uri": "https://localhost:8080/"
        },
        "outputId": "3a1d3e20-71aa-4215-b8ac-71c9cbbc59bd"
      },
      "execution_count": 23,
      "outputs": [
        {
          "output_type": "stream",
          "name": "stdout",
          "text": [
            "tmark table deleted\n",
            "notm table deleted\n"
          ]
        }
      ]
    },
    {
      "cell_type": "code",
      "source": [
        "c.close()\n",
        "conn.close()\n",
        "print('All connections closed')"
      ],
      "metadata": {
        "id": "f6tBsWfcf3J8",
        "colab": {
          "base_uri": "https://localhost:8080/"
        },
        "outputId": "8b0c57c9-a92e-4389-cae5-bf0172335464"
      },
      "execution_count": 24,
      "outputs": [
        {
          "output_type": "stream",
          "name": "stdout",
          "text": [
            "All connections closed\n"
          ]
        }
      ]
    }
  ],
  "metadata": {
    "colab": {
      "provenance": [],
      "mount_file_id": "1tYnL009IUM0VZ-Xh7A2_yPKRBYEoirVK",
      "authorship_tag": "ABX9TyP0uFiPQsyJoOvpXXSoC5WR",
      "include_colab_link": true
    },
    "kernelspec": {
      "display_name": "Python 3",
      "name": "python3"
    },
    "language_info": {
      "name": "python"
    }
  },
  "nbformat": 4,
  "nbformat_minor": 0
}