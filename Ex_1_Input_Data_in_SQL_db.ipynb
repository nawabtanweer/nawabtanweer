{
  "nbformat": 4,
  "nbformat_minor": 0,
  "metadata": {
    "colab": {
      "provenance": [],
      "authorship_tag": "ABX9TyMXfCExRjOUsvsfd68Lzpqz",
      "include_colab_link": true
    },
    "kernelspec": {
      "name": "python3",
      "display_name": "Python 3"
    },
    "language_info": {
      "name": "python"
    }
  },
  "cells": [
    {
      "cell_type": "markdown",
      "metadata": {
        "id": "view-in-github",
        "colab_type": "text"
      },
      "source": [
        "<a href=\"https://colab.research.google.com/github/nawabtanweer/nawabtanweer/blob/main/Ex_1_Input_Data_in_SQL_db.ipynb\" target=\"_parent\"><img src=\"https://colab.research.google.com/assets/colab-badge.svg\" alt=\"Open In Colab\"/></a>"
      ]
    },
    {
      "cell_type": "markdown",
      "source": [
        "***Practice Exercise***\n",
        "\n",
        "**Perform the below mentioned exercise using SQLite and Python:**\n",
        "- a. Create an SQL database\n",
        "- b. Create an SQL Table containing columns: name, age\n",
        "- c. Manually enter data in new table\n",
        "- d. Manually enter data of 3 users\n",
        "- e. Using python create a query that ask user to enter name and age (insert at least 3 more datasets)\n",
        "- f. Add a new integer column of phone number\n",
        "- g. Add a new column for Serial Number as a primary key and auto increment properties\n",
        "- h. Insert data in phone number column\n",
        "- i. Display table in tabular format.\n",
        "\n",
        "Youtube Channel:UB Programmer"
      ],
      "metadata": {
        "id": "orJNw9tEInL7"
      }
    },
    {
      "cell_type": "markdown",
      "source": [
        "---\n",
        "This is a correctly running solution for above exercise. Practice the queries in Ruf-Practice notebook, multiple time so quries can be memorize\n",
        "\n",
        "---\n",
        "\n"
      ],
      "metadata": {
        "id": "h818Kk-HRN8P"
      }
    },
    {
      "cell_type": "code",
      "source": [
        "#importing sqlite3 and pandas library\n",
        "import sqlite3\n",
        "import pandas as pd\n",
        "print('Libraries imported')"
      ],
      "metadata": {
        "colab": {
          "base_uri": "https://localhost:8080/"
        },
        "id": "BPMstYE1KmLy",
        "outputId": "463235f2-a8b9-40e6-94a5-75606e9b231c"
      },
      "execution_count": 184,
      "outputs": [
        {
          "output_type": "stream",
          "name": "stdout",
          "text": [
            "Libraries imported\n"
          ]
        }
      ]
    },
    {
      "cell_type": "code",
      "source": [
        "#a) Creating and connecting database in sqlite3\n",
        "conn = sqlite3.connect('user.db') #conn will act as connection to database\n",
        "print('Databasee connected/Created')"
      ],
      "metadata": {
        "colab": {
          "base_uri": "https://localhost:8080/"
        },
        "id": "9ThooxzQLZEp",
        "outputId": "90369633-9454-49cd-aa2e-44fb54569a0b"
      },
      "execution_count": 185,
      "outputs": [
        {
          "output_type": "stream",
          "name": "stdout",
          "text": [
            "Databasee connected/Created\n"
          ]
        }
      ]
    },
    {
      "cell_type": "code",
      "source": [
        "#create cursor for sqlite\n",
        "c = conn.cursor()\n",
        "print('Coursor created')"
      ],
      "metadata": {
        "colab": {
          "base_uri": "https://localhost:8080/"
        },
        "id": "fV5A7jKBL5ev",
        "outputId": "e2393373-7c37-410c-a393-4cd47d33741b"
      },
      "execution_count": 186,
      "outputs": [
        {
          "output_type": "stream",
          "name": "stdout",
          "text": [
            "Coursor created\n"
          ]
        }
      ]
    },
    {
      "cell_type": "code",
      "source": [
        "#b) create a table containing columns name and age\n",
        "c.execute(\"\"\"\n",
        "DROP TABLE IF EXISTS my_user;\n",
        "\"\"\")\n",
        "conn.commit()\n",
        "print('Table droped')\n",
        "\n",
        "c.execute(\"\"\"\n",
        "CREATE TABLE IF NOT EXISTS my_user (name VARCHAR(50), age INT);\n",
        "\"\"\")\n",
        "print('Table is created')\n",
        "conn.commit()"
      ],
      "metadata": {
        "colab": {
          "base_uri": "https://localhost:8080/"
        },
        "id": "aKB-Re9eP20I",
        "outputId": "e95d0f68-6793-4445-d738-8d8d22b444cd"
      },
      "execution_count": 187,
      "outputs": [
        {
          "output_type": "stream",
          "name": "stdout",
          "text": [
            "Table droped\n",
            "Table is created\n"
          ]
        }
      ]
    },
    {
      "cell_type": "code",
      "source": [
        "#c) insert data into table\n",
        "c.execute(\"\"\"\n",
        "INSERT INTO my_user(name, age) VALUES('ubaid', '24');\n",
        "\"\"\")\n",
        "print('First data inserted')"
      ],
      "metadata": {
        "colab": {
          "base_uri": "https://localhost:8080/"
        },
        "id": "6KKiHp1RQR2y",
        "outputId": "8b58ef19-18ed-4f2e-9aad-4aa5d921c95c"
      },
      "execution_count": 188,
      "outputs": [
        {
          "output_type": "stream",
          "name": "stdout",
          "text": [
            "First data inserted\n"
          ]
        }
      ]
    },
    {
      "cell_type": "code",
      "source": [
        "#view the newly inserted data\n",
        "c.execute(\"\"\"\n",
        "SELECT * FROM my_user;\n",
        "\"\"\")\n",
        "rows=c.fetchall()\n",
        "i=0\n",
        "for row in rows:\n",
        "  print(row)"
      ],
      "metadata": {
        "colab": {
          "base_uri": "https://localhost:8080/"
        },
        "id": "zWe0Z6YaQyFx",
        "outputId": "174eaee4-f3af-4625-81a6-16dad85b4565"
      },
      "execution_count": 189,
      "outputs": [
        {
          "output_type": "stream",
          "name": "stdout",
          "text": [
            "('ubaid', 24)\n"
          ]
        }
      ]
    },
    {
      "cell_type": "code",
      "source": [
        "#d) Manually enter data for atleast 3 users\n",
        "#Remember here were use executemany to run cursor multiple time, and we are using tuple with list to enter data\n",
        "c.executemany(\"\"\"\n",
        "INSERT INTO my_user (name, age) VALUES (?, ?)\n",
        "\"\"\",\n",
        "          [('Ibad', 23),\n",
        "           ('Waqar', 34),\n",
        "           ('Aftab', 18)]\n",
        "          )\n",
        "print('Data inserted')"
      ],
      "metadata": {
        "colab": {
          "base_uri": "https://localhost:8080/"
        },
        "id": "0SRXR-vkyvH4",
        "outputId": "8fc00948-7f7c-4ee1-f9bc-6be729a161d2"
      },
      "execution_count": 190,
      "outputs": [
        {
          "output_type": "stream",
          "name": "stdout",
          "text": [
            "Data inserted\n"
          ]
        }
      ]
    },
    {
      "cell_type": "code",
      "source": [
        "#Display data in table\n",
        "c.execute(\"\"\"\n",
        "SELECT * FROM my_user;\n",
        "\"\"\")\n",
        "row=c.fetchall()\n",
        "for rows in row:\n",
        "  print(rows)"
      ],
      "metadata": {
        "colab": {
          "base_uri": "https://localhost:8080/"
        },
        "id": "dzrO_2SC1c24",
        "outputId": "2e6f1662-f7d3-49d5-ec4a-cc32ccf7e0be"
      },
      "execution_count": 191,
      "outputs": [
        {
          "output_type": "stream",
          "name": "stdout",
          "text": [
            "('ubaid', 24)\n",
            "('Ibad', 23)\n",
            "('Waqar', 34)\n",
            "('Aftab', 18)\n"
          ]
        }
      ]
    },
    {
      "cell_type": "code",
      "source": [
        "#create a query that ask user to enter name and age\n",
        "user_name=input('Enter user name:')\n",
        "user_age=int(input('Enter user age:'))\n",
        "\n",
        "#save the inserted data into table my_user\n",
        "c.execute(\"\"\"\n",
        "INSERT INTO my_user (name,age) VALUES(?,?)\n",
        "\"\"\",(user_name, user_age))\n",
        "conn.commit()\n",
        "print(f'{user_name}, {user_age}, data inserted')"
      ],
      "metadata": {
        "colab": {
          "base_uri": "https://localhost:8080/"
        },
        "id": "dpMZd3DSRTDe",
        "outputId": "ee28653d-f395-4362-e992-a5091ab22bab"
      },
      "execution_count": 192,
      "outputs": [
        {
          "output_type": "stream",
          "name": "stdout",
          "text": [
            "Enter user name:Nawab\n",
            "Enter user age:45\n",
            "Nawab, 45, data inserted\n"
          ]
        }
      ]
    },
    {
      "cell_type": "code",
      "source": [
        "#insert new column phone into existing table\n",
        "c.execute(\"\"\"\n",
        "ALTER TABLE my_user ADD 'phone' INTEGER;\n",
        "\"\"\")\n",
        "conn.commit()\n",
        "print('New column phone inserted')"
      ],
      "metadata": {
        "colab": {
          "base_uri": "https://localhost:8080/"
        },
        "id": "WrjkmNBFS8vY",
        "outputId": "5ab9efaf-3843-47f8-ac7b-b6f6ccde1f2a"
      },
      "execution_count": 193,
      "outputs": [
        {
          "output_type": "stream",
          "name": "stdout",
          "text": [
            "New column phone inserted\n"
          ]
        }
      ]
    },
    {
      "cell_type": "code",
      "source": [
        "c.execute(\"\"\"\n",
        "SELECT * FROM my_user;\n",
        "\"\"\")\n",
        "rows=c.fetchall()\n",
        "for row in rows:\n",
        "  print(row)"
      ],
      "metadata": {
        "colab": {
          "base_uri": "https://localhost:8080/"
        },
        "id": "8h6W9_ELXIBh",
        "outputId": "2ef90568-732b-4a36-bb34-3d6488dfa678"
      },
      "execution_count": 194,
      "outputs": [
        {
          "output_type": "stream",
          "name": "stdout",
          "text": [
            "('ubaid', 24, None)\n",
            "('Ibad', 23, None)\n",
            "('Waqar', 34, None)\n",
            "('Aftab', 18, None)\n",
            "('Nawab', 45, None)\n"
          ]
        }
      ]
    },
    {
      "cell_type": "code",
      "source": [
        "#insert a new column sr no as integer with properties as PRIMARY KEY and AUTO INCREMENT\n",
        "c.execute(\"\"\"\n",
        "DROP TABLE IF EXISTS temp_my_user;\n",
        "\"\"\")\n",
        "conn.commit()\n",
        "print('Table Droped')\n",
        "c.execute(\"\"\"\n",
        "CREATE TABLE IF NOT EXISTS temp_my_user (sr_no INTEGER PRIMARY KEY AUTOINCREMENT, name VARCHAR(50), age INT, phone INTEGER)\n",
        "\"\"\")\n",
        "print('Temperory table created')\n",
        "conn.commit()\n",
        "c.execute(\"\"\"\n",
        "INSERT INTO temp_my_user (name, age, phone)\n",
        "SELECT name, age, phone FROM my_user\n",
        "\"\"\")\n",
        "conn.commit()\n",
        "print('Data inserted into new table')"
      ],
      "metadata": {
        "colab": {
          "base_uri": "https://localhost:8080/"
        },
        "id": "ZYZrguE4U-Bc",
        "outputId": "2fded1e3-f277-4488-be99-48f08f0876b3"
      },
      "execution_count": 195,
      "outputs": [
        {
          "output_type": "stream",
          "name": "stdout",
          "text": [
            "Table Droped\n",
            "Temperory table created\n",
            "Data inserted into new table\n"
          ]
        }
      ]
    },
    {
      "cell_type": "code",
      "source": [
        "#Check schema of table\n",
        "c.execute(\"\"\"\n",
        "PRAGMA table_info (temp_my_user)\n",
        "\"\"\")\n",
        "\n",
        "row = c.fetchall()\n",
        "\n",
        "for rows in row:\n",
        "  print(rows)"
      ],
      "metadata": {
        "colab": {
          "base_uri": "https://localhost:8080/"
        },
        "id": "n9ApWO67eb0W",
        "outputId": "525acfbf-0b5a-4e2f-89f3-7c48ed81c9b4"
      },
      "execution_count": 196,
      "outputs": [
        {
          "output_type": "stream",
          "name": "stdout",
          "text": [
            "(0, 'sr_no', 'INTEGER', 0, None, 1)\n",
            "(1, 'name', 'VARCHAR(50)', 0, None, 0)\n",
            "(2, 'age', 'INT', 0, None, 0)\n",
            "(3, 'phone', 'INTEGER', 0, None, 0)\n"
          ]
        }
      ]
    },
    {
      "cell_type": "code",
      "source": [
        "c.execute(\"\"\"\n",
        "SELECT * FROM temp_my_user\n",
        "\"\"\")\n",
        "row=c.fetchall()\n",
        "for rows in row:\n",
        "  print(rows)"
      ],
      "metadata": {
        "colab": {
          "base_uri": "https://localhost:8080/"
        },
        "id": "SNsIw8nUd_n0",
        "outputId": "6018fd7f-5961-4e15-ae43-6158cac0d1ba"
      },
      "execution_count": 197,
      "outputs": [
        {
          "output_type": "stream",
          "name": "stdout",
          "text": [
            "(1, 'ubaid', 24, None)\n",
            "(2, 'Ibad', 23, None)\n",
            "(3, 'Waqar', 34, None)\n",
            "(4, 'Aftab', 18, None)\n",
            "(5, 'Nawab', 45, None)\n"
          ]
        }
      ]
    },
    {
      "cell_type": "code",
      "source": [
        "#Drop table my_user\n",
        "c.execute(\"\"\"\n",
        "DROP TABLE IF EXISTS my_user;\n",
        "\"\"\")\n",
        "conn.commit()\n",
        "print('my_user table droped')"
      ],
      "metadata": {
        "colab": {
          "base_uri": "https://localhost:8080/"
        },
        "id": "AyCCWFCnkKev",
        "outputId": "99c4dde2-f9b5-4032-a150-e92bf9970914"
      },
      "execution_count": 198,
      "outputs": [
        {
          "output_type": "stream",
          "name": "stdout",
          "text": [
            "my_user table droped\n"
          ]
        }
      ]
    },
    {
      "cell_type": "code",
      "source": [
        "#Rename temp_my_table to my_table\n",
        "c.execute(\"\"\"\n",
        "ALTER TABLE temp_my_user RENAME TO my_user\n",
        "\"\"\")\n",
        "print('Table renamed')"
      ],
      "metadata": {
        "colab": {
          "base_uri": "https://localhost:8080/"
        },
        "id": "0_ZuvEqrmhxr",
        "outputId": "49698477-3a2b-4490-ae27-e7cf6cca5153"
      },
      "execution_count": 199,
      "outputs": [
        {
          "output_type": "stream",
          "name": "stdout",
          "text": [
            "Table renamed\n"
          ]
        }
      ]
    },
    {
      "cell_type": "code",
      "source": [
        "#Insert data in phone column\n",
        "c.execute(\"\"\"\n",
        "UPDATE my_user SET phone=0333 WHERE name='ubaid';\n",
        "\"\"\")\n",
        "conn.commit()\n",
        "print('data inserted')"
      ],
      "metadata": {
        "id": "UYhJOuqznRLd",
        "colab": {
          "base_uri": "https://localhost:8080/"
        },
        "outputId": "01fe8d19-8de1-4a38-9d8e-0423abe34db7"
      },
      "execution_count": 200,
      "outputs": [
        {
          "output_type": "stream",
          "name": "stdout",
          "text": [
            "data inserted\n"
          ]
        }
      ]
    },
    {
      "cell_type": "code",
      "source": [
        "#Display result in tabular form\n",
        "df=pd.read_sql_query('SELECT * FROM my_user', conn)\n",
        "print(df)"
      ],
      "metadata": {
        "colab": {
          "base_uri": "https://localhost:8080/"
        },
        "id": "8qZHzfKTviVv",
        "outputId": "2f6d8ca7-d6e4-4271-88d8-62836a555b2e"
      },
      "execution_count": 201,
      "outputs": [
        {
          "output_type": "stream",
          "name": "stdout",
          "text": [
            "   sr_no   name  age  phone\n",
            "0      1  ubaid   24  333.0\n",
            "1      2   Ibad   23    NaN\n",
            "2      3  Waqar   34    NaN\n",
            "3      4  Aftab   18    NaN\n",
            "4      5  Nawab   45    NaN\n"
          ]
        }
      ]
    },
    {
      "cell_type": "code",
      "source": [
        "#We can also display result directly from pandas\n",
        "pd.read_sql_query('SELECT * FROM my_user', conn)"
      ],
      "metadata": {
        "colab": {
          "base_uri": "https://localhost:8080/",
          "height": 204
        },
        "id": "YySwT0Ww5ig3",
        "outputId": "731cbbdd-3630-4c46-c47a-c1dafe8f7d39"
      },
      "execution_count": 204,
      "outputs": [
        {
          "output_type": "execute_result",
          "data": {
            "text/plain": [
              "   sr_no   name  age  phone\n",
              "0      1  ubaid   24  333.0\n",
              "1      2   Ibad   23    NaN\n",
              "2      3  Waqar   34    NaN\n",
              "3      4  Aftab   18    NaN\n",
              "4      5  Nawab   45    NaN"
            ],
            "text/html": [
              "\n",
              "  <div id=\"df-0eb8ac63-b617-4c4d-a743-e0e21f2f78ef\" class=\"colab-df-container\">\n",
              "    <div>\n",
              "<style scoped>\n",
              "    .dataframe tbody tr th:only-of-type {\n",
              "        vertical-align: middle;\n",
              "    }\n",
              "\n",
              "    .dataframe tbody tr th {\n",
              "        vertical-align: top;\n",
              "    }\n",
              "\n",
              "    .dataframe thead th {\n",
              "        text-align: right;\n",
              "    }\n",
              "</style>\n",
              "<table border=\"1\" class=\"dataframe\">\n",
              "  <thead>\n",
              "    <tr style=\"text-align: right;\">\n",
              "      <th></th>\n",
              "      <th>sr_no</th>\n",
              "      <th>name</th>\n",
              "      <th>age</th>\n",
              "      <th>phone</th>\n",
              "    </tr>\n",
              "  </thead>\n",
              "  <tbody>\n",
              "    <tr>\n",
              "      <th>0</th>\n",
              "      <td>1</td>\n",
              "      <td>ubaid</td>\n",
              "      <td>24</td>\n",
              "      <td>333.0</td>\n",
              "    </tr>\n",
              "    <tr>\n",
              "      <th>1</th>\n",
              "      <td>2</td>\n",
              "      <td>Ibad</td>\n",
              "      <td>23</td>\n",
              "      <td>NaN</td>\n",
              "    </tr>\n",
              "    <tr>\n",
              "      <th>2</th>\n",
              "      <td>3</td>\n",
              "      <td>Waqar</td>\n",
              "      <td>34</td>\n",
              "      <td>NaN</td>\n",
              "    </tr>\n",
              "    <tr>\n",
              "      <th>3</th>\n",
              "      <td>4</td>\n",
              "      <td>Aftab</td>\n",
              "      <td>18</td>\n",
              "      <td>NaN</td>\n",
              "    </tr>\n",
              "    <tr>\n",
              "      <th>4</th>\n",
              "      <td>5</td>\n",
              "      <td>Nawab</td>\n",
              "      <td>45</td>\n",
              "      <td>NaN</td>\n",
              "    </tr>\n",
              "  </tbody>\n",
              "</table>\n",
              "</div>\n",
              "    <div class=\"colab-df-buttons\">\n",
              "\n",
              "  <div class=\"colab-df-container\">\n",
              "    <button class=\"colab-df-convert\" onclick=\"convertToInteractive('df-0eb8ac63-b617-4c4d-a743-e0e21f2f78ef')\"\n",
              "            title=\"Convert this dataframe to an interactive table.\"\n",
              "            style=\"display:none;\">\n",
              "\n",
              "  <svg xmlns=\"http://www.w3.org/2000/svg\" height=\"24px\" viewBox=\"0 -960 960 960\">\n",
              "    <path d=\"M120-120v-720h720v720H120Zm60-500h600v-160H180v160Zm220 220h160v-160H400v160Zm0 220h160v-160H400v160ZM180-400h160v-160H180v160Zm440 0h160v-160H620v160ZM180-180h160v-160H180v160Zm440 0h160v-160H620v160Z\"/>\n",
              "  </svg>\n",
              "    </button>\n",
              "\n",
              "  <style>\n",
              "    .colab-df-container {\n",
              "      display:flex;\n",
              "      gap: 12px;\n",
              "    }\n",
              "\n",
              "    .colab-df-convert {\n",
              "      background-color: #E8F0FE;\n",
              "      border: none;\n",
              "      border-radius: 50%;\n",
              "      cursor: pointer;\n",
              "      display: none;\n",
              "      fill: #1967D2;\n",
              "      height: 32px;\n",
              "      padding: 0 0 0 0;\n",
              "      width: 32px;\n",
              "    }\n",
              "\n",
              "    .colab-df-convert:hover {\n",
              "      background-color: #E2EBFA;\n",
              "      box-shadow: 0px 1px 2px rgba(60, 64, 67, 0.3), 0px 1px 3px 1px rgba(60, 64, 67, 0.15);\n",
              "      fill: #174EA6;\n",
              "    }\n",
              "\n",
              "    .colab-df-buttons div {\n",
              "      margin-bottom: 4px;\n",
              "    }\n",
              "\n",
              "    [theme=dark] .colab-df-convert {\n",
              "      background-color: #3B4455;\n",
              "      fill: #D2E3FC;\n",
              "    }\n",
              "\n",
              "    [theme=dark] .colab-df-convert:hover {\n",
              "      background-color: #434B5C;\n",
              "      box-shadow: 0px 1px 3px 1px rgba(0, 0, 0, 0.15);\n",
              "      filter: drop-shadow(0px 1px 2px rgba(0, 0, 0, 0.3));\n",
              "      fill: #FFFFFF;\n",
              "    }\n",
              "  </style>\n",
              "\n",
              "    <script>\n",
              "      const buttonEl =\n",
              "        document.querySelector('#df-0eb8ac63-b617-4c4d-a743-e0e21f2f78ef button.colab-df-convert');\n",
              "      buttonEl.style.display =\n",
              "        google.colab.kernel.accessAllowed ? 'block' : 'none';\n",
              "\n",
              "      async function convertToInteractive(key) {\n",
              "        const element = document.querySelector('#df-0eb8ac63-b617-4c4d-a743-e0e21f2f78ef');\n",
              "        const dataTable =\n",
              "          await google.colab.kernel.invokeFunction('convertToInteractive',\n",
              "                                                    [key], {});\n",
              "        if (!dataTable) return;\n",
              "\n",
              "        const docLinkHtml = 'Like what you see? Visit the ' +\n",
              "          '<a target=\"_blank\" href=https://colab.research.google.com/notebooks/data_table.ipynb>data table notebook</a>'\n",
              "          + ' to learn more about interactive tables.';\n",
              "        element.innerHTML = '';\n",
              "        dataTable['output_type'] = 'display_data';\n",
              "        await google.colab.output.renderOutput(dataTable, element);\n",
              "        const docLink = document.createElement('div');\n",
              "        docLink.innerHTML = docLinkHtml;\n",
              "        element.appendChild(docLink);\n",
              "      }\n",
              "    </script>\n",
              "  </div>\n",
              "\n",
              "\n",
              "<div id=\"df-03a482c3-cf80-4366-9cd0-7bf98690e5c1\">\n",
              "  <button class=\"colab-df-quickchart\" onclick=\"quickchart('df-03a482c3-cf80-4366-9cd0-7bf98690e5c1')\"\n",
              "            title=\"Suggest charts\"\n",
              "            style=\"display:none;\">\n",
              "\n",
              "<svg xmlns=\"http://www.w3.org/2000/svg\" height=\"24px\"viewBox=\"0 0 24 24\"\n",
              "     width=\"24px\">\n",
              "    <g>\n",
              "        <path d=\"M19 3H5c-1.1 0-2 .9-2 2v14c0 1.1.9 2 2 2h14c1.1 0 2-.9 2-2V5c0-1.1-.9-2-2-2zM9 17H7v-7h2v7zm4 0h-2V7h2v10zm4 0h-2v-4h2v4z\"/>\n",
              "    </g>\n",
              "</svg>\n",
              "  </button>\n",
              "\n",
              "<style>\n",
              "  .colab-df-quickchart {\n",
              "      --bg-color: #E8F0FE;\n",
              "      --fill-color: #1967D2;\n",
              "      --hover-bg-color: #E2EBFA;\n",
              "      --hover-fill-color: #174EA6;\n",
              "      --disabled-fill-color: #AAA;\n",
              "      --disabled-bg-color: #DDD;\n",
              "  }\n",
              "\n",
              "  [theme=dark] .colab-df-quickchart {\n",
              "      --bg-color: #3B4455;\n",
              "      --fill-color: #D2E3FC;\n",
              "      --hover-bg-color: #434B5C;\n",
              "      --hover-fill-color: #FFFFFF;\n",
              "      --disabled-bg-color: #3B4455;\n",
              "      --disabled-fill-color: #666;\n",
              "  }\n",
              "\n",
              "  .colab-df-quickchart {\n",
              "    background-color: var(--bg-color);\n",
              "    border: none;\n",
              "    border-radius: 50%;\n",
              "    cursor: pointer;\n",
              "    display: none;\n",
              "    fill: var(--fill-color);\n",
              "    height: 32px;\n",
              "    padding: 0;\n",
              "    width: 32px;\n",
              "  }\n",
              "\n",
              "  .colab-df-quickchart:hover {\n",
              "    background-color: var(--hover-bg-color);\n",
              "    box-shadow: 0 1px 2px rgba(60, 64, 67, 0.3), 0 1px 3px 1px rgba(60, 64, 67, 0.15);\n",
              "    fill: var(--button-hover-fill-color);\n",
              "  }\n",
              "\n",
              "  .colab-df-quickchart-complete:disabled,\n",
              "  .colab-df-quickchart-complete:disabled:hover {\n",
              "    background-color: var(--disabled-bg-color);\n",
              "    fill: var(--disabled-fill-color);\n",
              "    box-shadow: none;\n",
              "  }\n",
              "\n",
              "  .colab-df-spinner {\n",
              "    border: 2px solid var(--fill-color);\n",
              "    border-color: transparent;\n",
              "    border-bottom-color: var(--fill-color);\n",
              "    animation:\n",
              "      spin 1s steps(1) infinite;\n",
              "  }\n",
              "\n",
              "  @keyframes spin {\n",
              "    0% {\n",
              "      border-color: transparent;\n",
              "      border-bottom-color: var(--fill-color);\n",
              "      border-left-color: var(--fill-color);\n",
              "    }\n",
              "    20% {\n",
              "      border-color: transparent;\n",
              "      border-left-color: var(--fill-color);\n",
              "      border-top-color: var(--fill-color);\n",
              "    }\n",
              "    30% {\n",
              "      border-color: transparent;\n",
              "      border-left-color: var(--fill-color);\n",
              "      border-top-color: var(--fill-color);\n",
              "      border-right-color: var(--fill-color);\n",
              "    }\n",
              "    40% {\n",
              "      border-color: transparent;\n",
              "      border-right-color: var(--fill-color);\n",
              "      border-top-color: var(--fill-color);\n",
              "    }\n",
              "    60% {\n",
              "      border-color: transparent;\n",
              "      border-right-color: var(--fill-color);\n",
              "    }\n",
              "    80% {\n",
              "      border-color: transparent;\n",
              "      border-right-color: var(--fill-color);\n",
              "      border-bottom-color: var(--fill-color);\n",
              "    }\n",
              "    90% {\n",
              "      border-color: transparent;\n",
              "      border-bottom-color: var(--fill-color);\n",
              "    }\n",
              "  }\n",
              "</style>\n",
              "\n",
              "  <script>\n",
              "    async function quickchart(key) {\n",
              "      const quickchartButtonEl =\n",
              "        document.querySelector('#' + key + ' button');\n",
              "      quickchartButtonEl.disabled = true;  // To prevent multiple clicks.\n",
              "      quickchartButtonEl.classList.add('colab-df-spinner');\n",
              "      try {\n",
              "        const charts = await google.colab.kernel.invokeFunction(\n",
              "            'suggestCharts', [key], {});\n",
              "      } catch (error) {\n",
              "        console.error('Error during call to suggestCharts:', error);\n",
              "      }\n",
              "      quickchartButtonEl.classList.remove('colab-df-spinner');\n",
              "      quickchartButtonEl.classList.add('colab-df-quickchart-complete');\n",
              "    }\n",
              "    (() => {\n",
              "      let quickchartButtonEl =\n",
              "        document.querySelector('#df-03a482c3-cf80-4366-9cd0-7bf98690e5c1 button');\n",
              "      quickchartButtonEl.style.display =\n",
              "        google.colab.kernel.accessAllowed ? 'block' : 'none';\n",
              "    })();\n",
              "  </script>\n",
              "</div>\n",
              "\n",
              "    </div>\n",
              "  </div>\n"
            ]
          },
          "metadata": {},
          "execution_count": 204
        }
      ]
    },
    {
      "cell_type": "markdown",
      "source": [
        "#Close cursor and connection\n",
        "c.close()\n",
        "conn.close()\n",
        "print('All connections closed')"
      ],
      "metadata": {
        "id": "uZceOTsJ4DWt"
      }
    }
  ]
}